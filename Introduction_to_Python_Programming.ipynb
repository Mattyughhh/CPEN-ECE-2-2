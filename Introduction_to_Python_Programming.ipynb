{
  "nbformat": 4,
  "nbformat_minor": 0,
  "metadata": {
    "colab": {
      "name": "Introduction to Python Programming",
      "provenance": [],
      "authorship_tag": "ABX9TyNIiAp+6fIhUTGXA/vnGhDP",
      "include_colab_link": true
    },
    "kernelspec": {
      "name": "python3",
      "display_name": "Python 3"
    },
    "language_info": {
      "name": "python"
    }
  },
  "cells": [
    {
      "cell_type": "markdown",
      "metadata": {
        "id": "view-in-github",
        "colab_type": "text"
      },
      "source": [
        "<a href=\"https://colab.research.google.com/github/Mattyughhh/CPEN-ECE-2-2/blob/main/Introduction_to_Python_Programming.ipynb\" target=\"_parent\"><img src=\"https://colab.research.google.com/assets/colab-badge.svg\" alt=\"Open In Colab\"/></a>"
      ]
    },
    {
      "cell_type": "code",
      "metadata": {
        "colab": {
          "base_uri": "https://localhost:8080/"
        },
        "id": "9sfkL2STjVUj",
        "outputId": "a1121d50-e95d-48a0-e5fc-76be5d951664"
      },
      "source": [
        "print (\"Hello, World\")"
      ],
      "execution_count": 10,
      "outputs": [
        {
          "output_type": "stream",
          "name": "stdout",
          "text": [
            "Hello, World\n"
          ]
        }
      ]
    },
    {
      "cell_type": "code",
      "metadata": {
        "colab": {
          "base_uri": "https://localhost:8080/"
        },
        "id": "kba_vKaFuUmo",
        "outputId": "893afa6f-b1ea-4bec-d50b-81249c56c5a7"
      },
      "source": [
        "b = float (4)\n",
        "print (round,((b),3))\n",
        "\n"
      ],
      "execution_count": 14,
      "outputs": [
        {
          "output_type": "stream",
          "name": "stdout",
          "text": [
            "<built-in function round> (4.0, 3)\n"
          ]
        }
      ]
    },
    {
      "cell_type": "code",
      "metadata": {
        "colab": {
          "base_uri": "https://localhost:8080/"
        },
        "id": "d9qrdw2XujDW",
        "outputId": "225ca97d-f103-42ab-e309-36f8bd7a48ae"
      },
      "source": [
        "a = 4\n",
        "A = \"sally\"\n",
        "#A will not overwrite a\n",
        "print (a)\n",
        "print (A)"
      ],
      "execution_count": 15,
      "outputs": [
        {
          "output_type": "stream",
          "name": "stdout",
          "text": [
            "4\n",
            "sally\n"
          ]
        }
      ]
    },
    {
      "cell_type": "code",
      "metadata": {
        "colab": {
          "base_uri": "https://localhost:8080/"
        },
        "id": "Afzpug9FtK2u",
        "outputId": "60c19f80-85fd-4692-8da6-84ad13efa03b"
      },
      "source": [
        "x = \"enjoying\"\n",
        "print (\"Python Programming is \"+ x)"
      ],
      "execution_count": 17,
      "outputs": [
        {
          "output_type": "stream",
          "name": "stdout",
          "text": [
            "Python Programming is enjoying\n"
          ]
        }
      ]
    },
    {
      "cell_type": "code",
      "metadata": {
        "colab": {
          "base_uri": "https://localhost:8080/"
        },
        "id": "PaZc9EPvvEpD",
        "outputId": "293806bb-1125-47ff-c11c-d85f8c11057f"
      },
      "source": [
        "x = 5\n",
        "y = 6\n",
        "print (x+y)"
      ],
      "execution_count": 18,
      "outputs": [
        {
          "output_type": "stream",
          "name": "stdout",
          "text": [
            "11\n"
          ]
        }
      ]
    },
    {
      "cell_type": "code",
      "metadata": {
        "colab": {
          "base_uri": "https://localhost:8080/"
        },
        "id": "-uGpfI_JtyDO",
        "outputId": "b2010be2-3798-4e09-bd06-830f0b7cfa5f"
      },
      "source": [
        "y = 6\n",
        "z = 7\n",
        "y is not z"
      ],
      "execution_count": 13,
      "outputs": [
        {
          "output_type": "execute_result",
          "data": {
            "text/plain": [
              "True"
            ]
          },
          "metadata": {},
          "execution_count": 13
        }
      ]
    },
    {
      "cell_type": "code",
      "metadata": {
        "colab": {
          "base_uri": "https://localhost:8080/"
        },
        "id": "uOyGA0Y2vKcN",
        "outputId": "306d78ce-80dc-4ab9-bba3-ee81f52ae5e7"
      },
      "source": [
        "a, b, c = 0, -1, 8\n",
        "c%=3\n",
        "print (c)"
      ],
      "execution_count": 21,
      "outputs": [
        {
          "output_type": "stream",
          "name": "stdout",
          "text": [
            "2\n"
          ]
        }
      ]
    }
  ]
}